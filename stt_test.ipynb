{
 "cells": [
  {
   "cell_type": "code",
   "execution_count": 13,
   "metadata": {},
   "outputs": [],
   "source": [
    "import torch\n",
    "from transformers import AutoModelForSpeechSeq2Seq, AutoProcessor, pipeline\n",
    "from datasets import load_dataset\n",
    "\n",
    "\n",
    "device = \"cuda:0\" if torch.cuda.is_available() else \"cpu\"\n",
    "torch_dtype = torch.float16 if torch.cuda.is_available() else torch.float32\n",
    "\n",
    "model_id = \"openai/whisper-large-v3\"\n",
    "\n",
    "model = AutoModelForSpeechSeq2Seq.from_pretrained(\n",
    "    model_id, torch_dtype=torch_dtype, low_cpu_mem_usage=True, use_safetensors=True\n",
    ")\n",
    "model.to(device)\n",
    "\n",
    "processor = AutoProcessor.from_pretrained(model_id)\n",
    "\n",
    "pipe = pipeline(\n",
    "    \"automatic-speech-recognition\",\n",
    "    model=model,\n",
    "    tokenizer=processor.tokenizer,\n",
    "    feature_extractor=processor.feature_extractor,\n",
    "    max_new_tokens=128,\n",
    "    chunk_length_s=30,\n",
    "    batch_size=16,\n",
    "    return_timestamps=True,\n",
    "    torch_dtype=torch_dtype,\n",
    "    device=device,\n",
    ")"
   ]
  },
  {
   "cell_type": "code",
   "execution_count": 14,
   "metadata": {},
   "outputs": [
    {
     "name": "stderr",
     "output_type": "stream",
     "text": [
      "c:\\Users\\Admin\\miniconda3\\envs\\gumi_env310\\lib\\site-packages\\transformers\\models\\whisper\\generation_whisper.py:483: FutureWarning: The input name `inputs` is deprecated. Please make sure to use `input_features` instead.\n",
      "  warnings.warn(\n"
     ]
    },
    {
     "name": "stdout",
     "output_type": "stream",
     "text": [
      " 여명이 찾아왔을 때 그것은 저에게 큰 충격이었습니다. 사건은 급격하게 발생하였고 의회의 가족들은 감소되었으며 추적을 받았습니다. 저의 가족도 그런 운명을 피할 수 없었습니다. 저는 그 모든 혼란 속에서 이탈리아로 피신하게 되었고 그곳에서 아내를 잃게 되었습니다. 그런 상황 속에서 저의 삶은 완전히 바뀌었고 고독과 결박의 생각이 마음속에 싹트기 시작했습니다. 그 모든 것이 저를 공격하였고 그 결과로 저는 신부의 길을 선택하게 되었습니다. 그래서 혁명이 왔을 때 저의 심정은 충격과 슬픔 혼란으로 가득 찼습니다.\n"
     ]
    }
   ],
   "source": [
    "result = pipe(\"upload_audio/output_1.wav\")\n",
    "print(result[\"text\"])"
   ]
  },
  {
   "cell_type": "code",
   "execution_count": 8,
   "metadata": {},
   "outputs": [
    {
     "name": "stdout",
     "output_type": "stream",
     "text": [
      " When the name came, it was a big shock to me. The incident happened rapidly, and the family of the suspect was arrested and tracked. My family couldn't avoid the fate of my life. I was betrayed by Italy in all that chaos. I lost my wife there. In that situation, my life was completely different. The thoughts of loneliness and despair began to of thoughts in my mind. All of that attacked me, and as a result, I chose the path of the priest. So when the revolution came, my heart was full of shock, sadness, and confusion.\n"
     ]
    }
   ],
   "source": [
    "result = pipe(\"upload_audio/output_1.wav\", generate_kwargs = {\"language\": \"english\", \"task\":'translate'})\n",
    "print(result['text'])"
   ]
  },
  {
   "cell_type": "code",
   "execution_count": 12,
   "metadata": {},
   "outputs": [
    {
     "data": {
      "text/plain": [
       "\"hi When the name came, it was a big shock to me. The incident happened rapidly, and the family of the suspect was arrested and tracked. My family couldn't avoid the fate of my life. I was betrayed by Italy in all that chaos. I lost my wife there. In that situation, my life was completely different. The thoughts of loneliness and despair began to of thoughts in my mind. All of that attacked me, and as a result, I chose the path of the priest. So when the revolution came, my heart was full of shock, sadness, and confusion.\""
      ]
     },
     "execution_count": 12,
     "metadata": {},
     "output_type": "execute_result"
    }
   ],
   "source": [
    "text = result['text']\n",
    "text_trans = \"hi\" + text\n",
    "text_trans"
   ]
  },
  {
   "cell_type": "code",
   "execution_count": null,
   "metadata": {},
   "outputs": [],
   "source": []
  }
 ],
 "metadata": {
  "kernelspec": {
   "display_name": "gumi_env310",
   "language": "python",
   "name": "python3"
  },
  "language_info": {
   "codemirror_mode": {
    "name": "ipython",
    "version": 3
   },
   "file_extension": ".py",
   "mimetype": "text/x-python",
   "name": "python",
   "nbconvert_exporter": "python",
   "pygments_lexer": "ipython3",
   "version": "3.10.14"
  }
 },
 "nbformat": 4,
 "nbformat_minor": 2
}
