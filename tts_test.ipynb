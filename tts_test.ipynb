{
 "cells": [
  {
   "cell_type": "code",
   "execution_count": 3,
   "metadata": {},
   "outputs": [],
   "source": [
    "#구글 tts\n",
    "from gtts import gTTS\n",
    "\n",
    "a_speak = \"안녕하세요, 오늘 우리는 조지 오웰의 '동물 농장'에 대해 토론해 보겠습니다. 이 책은 단순한 우화처럼 보이지만, 그 안에 담긴 정치적 풍자가 매우 강렬하죠. 오웰은 이 작품을 통해 권력의 부패와 독재의 위험성을 경고하고 있습니다.\"\n",
    "b_speak = \"맞습니다, 특히 '동물 농장'은 소련의 공산주의 혁명과 그 이후의 변질을 비판적으로 묘사하고 있어요. 나폴레옹과 스노우볼은 각각 스탈린과 트로츠키를 상징하죠. 책은 혁명이 어떻게 권력을 잡은 자들에 의해 타락하는지를 보여줍니다.\"\n",
    "c_speak = \"동의해요. 하지만 저는 이 책을 현대 사회의 권력 구조와도 연결해서 볼 수 있다고 생각해요. '동물 농장'은 특정 시대의 특정 사건에 국한된 것이 아니라, 어떤 종류의 권력도 쉽게 부패할 수 있음을 경고하고 있어요. 그래서 이 책은 오늘날의 독재 정권이나 부패한 정치 시스템을 비판하는 데에도 여전히 유효한 메시지를 가지고 있죠\"\n"
   ]
  },
  {
   "cell_type": "code",
   "execution_count": 6,
   "metadata": {},
   "outputs": [],
   "source": [
    "\n",
    "tts = gTTS(text=c_speak, lang=\"ko\")\n",
    "tts.save(\"c_speak.mp3\")"
   ]
  },
  {
   "cell_type": "code",
   "execution_count": 1,
   "metadata": {},
   "outputs": [
    {
     "name": "stdout",
     "output_type": "stream",
     "text": [
      "Audio file saved as hello_chatgpt.mp3\n"
     ]
    }
   ],
   "source": [
    "from gtts import gTTS\n",
    "\n",
    "# The text you want to convert to audio\n",
    "text = \"Hello, my name is ChatGPT.\"\n",
    "\n",
    "# Create a gTTS object\n",
    "tts = gTTS(text=text, lang='en')\n",
    "\n",
    "# Save the converted audio to a file\n",
    "tts.save(\"hello_chatgpt.mp3\")\n",
    "\n",
    "print(\"Audio file saved as hello_chatgpt.mp3\")\n"
   ]
  }
 ],
 "metadata": {
  "kernelspec": {
   "display_name": "gumi_env310",
   "language": "python",
   "name": "python3"
  },
  "language_info": {
   "codemirror_mode": {
    "name": "ipython",
    "version": 3
   },
   "file_extension": ".py",
   "mimetype": "text/x-python",
   "name": "python",
   "nbconvert_exporter": "python",
   "pygments_lexer": "ipython3",
   "version": "3.10.14"
  }
 },
 "nbformat": 4,
 "nbformat_minor": 2
}
